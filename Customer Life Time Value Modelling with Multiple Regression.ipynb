{
 "cells": [
  {
   "cell_type": "code",
   "execution_count": 2,
   "metadata": {},
   "outputs": [
    {
     "name": "stderr",
     "output_type": "stream",
     "text": [
      "Installing package into 'C:/Users/Dell/Documents/R/win-library/3.6'\n",
      "(as 'lib' is unspecified)\n",
      "Warning message:\n",
      "\"package 'dplyr' is in use and will not be installed\"Parsed with column specification:\n",
      "cols(\n",
      "  customerID = col_double(),\n",
      "  nOrders = col_double(),\n",
      "  nItems = col_double(),\n",
      "  daysSinceLastOrder = col_double(),\n",
      "  margin = col_double(),\n",
      "  returnRatio = col_double(),\n",
      "  shareOwnBrand = col_double(),\n",
      "  shareVoucher = col_double(),\n",
      "  shareSale = col_double(),\n",
      "  gender = col_character(),\n",
      "  age = col_double(),\n",
      "  marginPerOrder = col_double(),\n",
      "  marginPerItem = col_double(),\n",
      "  itemsPerOrder = col_double(),\n",
      "  futureMargin = col_double()\n",
      ")\n"
     ]
    },
    {
     "data": {
      "text/html": [
       "<table>\n",
       "<thead><tr><th scope=col>customerID</th><th scope=col>nOrders</th><th scope=col>nItems</th><th scope=col>daysSinceLastOrder</th><th scope=col>margin</th><th scope=col>returnRatio</th><th scope=col>shareOwnBrand</th><th scope=col>shareVoucher</th><th scope=col>shareSale</th><th scope=col>gender</th><th scope=col>age</th><th scope=col>marginPerOrder</th><th scope=col>marginPerItem</th><th scope=col>itemsPerOrder</th><th scope=col>futureMargin</th></tr></thead>\n",
       "<tbody>\n",
       "\t<tr><td>2     </td><td> 4    </td><td> 7    </td><td>  4   </td><td>35.77 </td><td>0.25  </td><td>0.67  </td><td>0.17  </td><td>0.00  </td><td>female</td><td>56    </td><td> 8.94 </td><td> 5.11 </td><td>1.75  </td><td>57.62 </td></tr>\n",
       "\t<tr><td>3     </td><td> 3    </td><td> 4    </td><td>272   </td><td>25.74 </td><td>0.44  </td><td>0.33  </td><td>0.00  </td><td>0.67  </td><td>male  </td><td>37    </td><td> 8.58 </td><td> 6.43 </td><td>1.33  </td><td>29.69 </td></tr>\n",
       "\t<tr><td>4     </td><td>12    </td><td>25    </td><td> 12   </td><td>63.32 </td><td>0.15  </td><td>0.86  </td><td>0.38  </td><td>0.29  </td><td>male  </td><td>32    </td><td> 5.28 </td><td> 2.53 </td><td>2.08  </td><td>56.26 </td></tr>\n",
       "\t<tr><td>5     </td><td>16    </td><td>29    </td><td> 32   </td><td>53.74 </td><td>0.03  </td><td>0.96  </td><td>0.17  </td><td>0.33  </td><td>female</td><td>43    </td><td> 3.36 </td><td> 1.85 </td><td>1.81  </td><td>58.84 </td></tr>\n",
       "\t<tr><td>6     </td><td> 1    </td><td> 2    </td><td> 47   </td><td>35.85 </td><td>0.00  </td><td>1.00  </td><td>0.00  </td><td>1.00  </td><td>male  </td><td>48    </td><td>35.85 </td><td>17.93 </td><td>2.00  </td><td>29.31 </td></tr>\n",
       "\t<tr><td>7     </td><td> 2    </td><td> 8    </td><td> 19   </td><td>22.02 </td><td>0.18  </td><td>0.00  </td><td>0.86  </td><td>0.14  </td><td>female</td><td>31    </td><td>11.01 </td><td> 2.75 </td><td>4.00  </td><td>35.72 </td></tr>\n",
       "</tbody>\n",
       "</table>\n"
      ],
      "text/latex": [
       "\\begin{tabular}{r|lllllllllllllll}\n",
       " customerID & nOrders & nItems & daysSinceLastOrder & margin & returnRatio & shareOwnBrand & shareVoucher & shareSale & gender & age & marginPerOrder & marginPerItem & itemsPerOrder & futureMargin\\\\\n",
       "\\hline\n",
       "\t 2      &  4     &  7     &   4    & 35.77  & 0.25   & 0.67   & 0.17   & 0.00   & female & 56     &  8.94  &  5.11  & 1.75   & 57.62 \\\\\n",
       "\t 3      &  3     &  4     & 272    & 25.74  & 0.44   & 0.33   & 0.00   & 0.67   & male   & 37     &  8.58  &  6.43  & 1.33   & 29.69 \\\\\n",
       "\t 4      & 12     & 25     &  12    & 63.32  & 0.15   & 0.86   & 0.38   & 0.29   & male   & 32     &  5.28  &  2.53  & 2.08   & 56.26 \\\\\n",
       "\t 5      & 16     & 29     &  32    & 53.74  & 0.03   & 0.96   & 0.17   & 0.33   & female & 43     &  3.36  &  1.85  & 1.81   & 58.84 \\\\\n",
       "\t 6      &  1     &  2     &  47    & 35.85  & 0.00   & 1.00   & 0.00   & 1.00   & male   & 48     & 35.85  & 17.93  & 2.00   & 29.31 \\\\\n",
       "\t 7      &  2     &  8     &  19    & 22.02  & 0.18   & 0.00   & 0.86   & 0.14   & female & 31     & 11.01  &  2.75  & 4.00   & 35.72 \\\\\n",
       "\\end{tabular}\n"
      ],
      "text/markdown": [
       "\n",
       "| customerID | nOrders | nItems | daysSinceLastOrder | margin | returnRatio | shareOwnBrand | shareVoucher | shareSale | gender | age | marginPerOrder | marginPerItem | itemsPerOrder | futureMargin |\n",
       "|---|---|---|---|---|---|---|---|---|---|---|---|---|---|---|\n",
       "| 2      |  4     |  7     |   4    | 35.77  | 0.25   | 0.67   | 0.17   | 0.00   | female | 56     |  8.94  |  5.11  | 1.75   | 57.62  |\n",
       "| 3      |  3     |  4     | 272    | 25.74  | 0.44   | 0.33   | 0.00   | 0.67   | male   | 37     |  8.58  |  6.43  | 1.33   | 29.69  |\n",
       "| 4      | 12     | 25     |  12    | 63.32  | 0.15   | 0.86   | 0.38   | 0.29   | male   | 32     |  5.28  |  2.53  | 2.08   | 56.26  |\n",
       "| 5      | 16     | 29     |  32    | 53.74  | 0.03   | 0.96   | 0.17   | 0.33   | female | 43     |  3.36  |  1.85  | 1.81   | 58.84  |\n",
       "| 6      |  1     |  2     |  47    | 35.85  | 0.00   | 1.00   | 0.00   | 1.00   | male   | 48     | 35.85  | 17.93  | 2.00   | 29.31  |\n",
       "| 7      |  2     |  8     |  19    | 22.02  | 0.18   | 0.00   | 0.86   | 0.14   | female | 31     | 11.01  |  2.75  | 4.00   | 35.72  |\n",
       "\n"
      ],
      "text/plain": [
       "  customerID nOrders nItems daysSinceLastOrder margin returnRatio shareOwnBrand\n",
       "1 2           4       7       4                35.77  0.25        0.67         \n",
       "2 3           3       4     272                25.74  0.44        0.33         \n",
       "3 4          12      25      12                63.32  0.15        0.86         \n",
       "4 5          16      29      32                53.74  0.03        0.96         \n",
       "5 6           1       2      47                35.85  0.00        1.00         \n",
       "6 7           2       8      19                22.02  0.18        0.00         \n",
       "  shareVoucher shareSale gender age marginPerOrder marginPerItem itemsPerOrder\n",
       "1 0.17         0.00      female 56   8.94           5.11         1.75         \n",
       "2 0.00         0.67      male   37   8.58           6.43         1.33         \n",
       "3 0.38         0.29      male   32   5.28           2.53         2.08         \n",
       "4 0.17         0.33      female 43   3.36           1.85         1.81         \n",
       "5 0.00         1.00      male   48  35.85          17.93         2.00         \n",
       "6 0.86         0.14      female 31  11.01           2.75         4.00         \n",
       "  futureMargin\n",
       "1 57.62       \n",
       "2 29.69       \n",
       "3 56.26       \n",
       "4 58.84       \n",
       "5 29.31       \n",
       "6 35.72       "
      ]
     },
     "metadata": {},
     "output_type": "display_data"
    }
   ],
   "source": [
    "# Importing the dataset and getting into the library \"dplyr\"\n",
    "install.packages(\"dplyr\")\n",
    "library(dplyr)\n",
    "library(readr)\n",
    "clvData1 <- read_csv(\"C:/Users/Dell/Desktop/DC Datasets/ML for Marketing Analytcis/clvData1.csv\")\n",
    "head(clvData1)"
   ]
  },
  {
   "cell_type": "code",
   "execution_count": 7,
   "metadata": {},
   "outputs": [
    {
     "name": "stderr",
     "output_type": "stream",
     "text": [
      "Installing package into 'C:/Users/Dell/Documents/R/win-library/3.6'\n",
      "(as 'lib' is unspecified)\n",
      "Warning message:\n",
      "\"package 'corrplot' is in use and will not be installed\""
     ]
    },
    {
     "data": {
      "image/png": "[encoded data removed]",
      "text/plain": [
       "Plot with title \"\""
      ]
     },
     "metadata": {},
     "output_type": "display_data"
    }
   ],
   "source": [
    "# Plotting the Correlations with \"corrplot\" library\n",
    "install.packages(\"corrplot\")\n",
    "library(corrplot)\n",
    "clvData1 %>% select_if(is.numeric) %>%\n",
    "select(-customerID) %>% cor() %>% corrplot()"
   ]
  },
  {
   "cell_type": "code",
   "execution_count": 8,
   "metadata": {},
   "outputs": [
    {
     "data": {
      "text/plain": [
       "\n",
       "Call:\n",
       "lm(formula = futureMargin ~ ., data = clvData1)\n",
       "\n",
       "Residuals:\n",
       "    Min      1Q  Median      3Q     Max \n",
       "-58.475  -8.890   0.598   9.486  49.648 \n",
       "\n",
       "Coefficients:\n",
       "                     Estimate Std. Error t value Pr(>|t|)    \n",
       "(Intercept)        21.9359222  1.4748963  14.873  < 2e-16 ***\n",
       "customerID          0.0001883  0.0001086   1.734  0.08306 .  \n",
       "nOrders            -0.0275014  0.1229755  -0.224  0.82305    \n",
       "nItems              0.1336084  0.0710157   1.881  0.05999 .  \n",
       "daysSinceLastOrder -0.0161501  0.0026913  -6.001 2.13e-09 ***\n",
       "margin              0.4055540  0.0273384  14.835  < 2e-16 ***\n",
       "returnRatio        -1.9330839  0.6014411  -3.214  0.00132 ** \n",
       "shareOwnBrand       7.6136462  0.6791437  11.211  < 2e-16 ***\n",
       "shareVoucher       -1.7953640  0.6693942  -2.682  0.00735 ** \n",
       "shareSale          -2.9377340  0.6905772  -4.254 2.15e-05 ***\n",
       "gendermale          0.1873098  0.4293795   0.436  0.66269    \n",
       "age                -0.0116967  0.0172716  -0.677  0.49830    \n",
       "marginPerOrder     -0.2062556  0.0914171  -2.256  0.02411 *  \n",
       "marginPerItem       0.0237456  0.1096867   0.216  0.82862    \n",
       "itemsPerOrder       0.1175535  0.5407738   0.217  0.82792    \n",
       "---\n",
       "Signif. codes:  0 '***' 0.001 '**' 0.01 '*' 0.05 '.' 0.1 ' ' 1\n",
       "\n",
       "Residual standard error: 13.84 on 4176 degrees of freedom\n",
       "Multiple R-squared:  0.3552,\tAdjusted R-squared:  0.353 \n",
       "F-statistic: 164.3 on 14 and 4176 DF,  p-value: < 2.2e-16\n"
      ]
     },
     "metadata": {},
     "output_type": "display_data"
    }
   ],
   "source": [
    "# Building the Multiple Regression Model\n",
    "multipleLM <- lm(futureMargin ~ ., data = clvData1)\n",
    "summary(multipleLM)"
   ]
  },
  {
   "cell_type": "code",
   "execution_count": 9,
   "metadata": {},
   "outputs": [
    {
     "name": "stderr",
     "output_type": "stream",
     "text": [
      "Warning message:\n",
      "\"package 'rms' was built under R version 3.6.3\"Loading required package: Hmisc\n",
      "Warning message:\n",
      "\"package 'Hmisc' was built under R version 3.6.3\"Loading required package: lattice\n",
      "Loading required package: survival\n",
      "Warning message:\n",
      "\"package 'survival' was built under R version 3.6.3\"Loading required package: Formula\n",
      "Loading required package: ggplot2\n",
      "\n",
      "Attaching package: 'Hmisc'\n",
      "\n",
      "The following objects are masked from 'package:dplyr':\n",
      "\n",
      "    src, summarize\n",
      "\n",
      "The following objects are masked from 'package:base':\n",
      "\n",
      "    format.pval, units\n",
      "\n",
      "Loading required package: SparseM\n",
      "Warning message:\n",
      "\"package 'SparseM' was built under R version 3.6.2\"\n",
      "Attaching package: 'SparseM'\n",
      "\n",
      "The following object is masked from 'package:base':\n",
      "\n",
      "    backsolve\n",
      "\n"
     ]
    },
    {
     "data": {
      "text/html": [
       "<dl class=dl-horizontal>\n",
       "\t<dt>customerID</dt>\n",
       "\t\t<dd>1.01241453119978</dd>\n",
       "\t<dt>nOrders</dt>\n",
       "\t\t<dd>11.5704911099229</dd>\n",
       "\t<dt>nItems</dt>\n",
       "\t\t<dd>13.1547474079507</dd>\n",
       "\t<dt>daysSinceLastOrder</dt>\n",
       "\t\t<dd>1.37692898859339</dd>\n",
       "\t<dt>margin</dt>\n",
       "\t\t<dd>3.67080109115952</dd>\n",
       "\t<dt>returnRatio</dt>\n",
       "\t\t<dd>1.31164148037996</dd>\n",
       "\t<dt>shareOwnBrand</dt>\n",
       "\t\t<dd>1.36517563597665</dd>\n",
       "\t<dt>shareVoucher</dt>\n",
       "\t\t<dd>1.18239381301426</dd>\n",
       "\t<dt>shareSale</dt>\n",
       "\t\t<dd>1.14926368015397</dd>\n",
       "\t<dt>gendermale</dt>\n",
       "\t\t<dd>1.00356004739909</dd>\n",
       "\t<dt>age</dt>\n",
       "\t\t<dd>1.0287407884121</dd>\n",
       "\t<dt>marginPerOrder</dt>\n",
       "\t\t<dd>8.98310502096075</dd>\n",
       "\t<dt>marginPerItem</dt>\n",
       "\t\t<dd>7.7840118246658</dd>\n",
       "\t<dt>itemsPerOrder</dt>\n",
       "\t\t<dd>6.65913429984677</dd>\n",
       "</dl>\n"
      ],
      "text/latex": [
       "\\begin{description*}\n",
       "\\item[customerID] 1.01241453119978\n",
       "\\item[nOrders] 11.5704911099229\n",
       "\\item[nItems] 13.1547474079507\n",
       "\\item[daysSinceLastOrder] 1.37692898859339\n",
       "\\item[margin] 3.67080109115952\n",
       "\\item[returnRatio] 1.31164148037996\n",
       "\\item[shareOwnBrand] 1.36517563597665\n",
       "\\item[shareVoucher] 1.18239381301426\n",
       "\\item[shareSale] 1.14926368015397\n",
       "\\item[gendermale] 1.00356004739909\n",
       "\\item[age] 1.0287407884121\n",
       "\\item[marginPerOrder] 8.98310502096075\n",
       "\\item[marginPerItem] 7.7840118246658\n",
       "\\item[itemsPerOrder] 6.65913429984677\n",
       "\\end{description*}\n"
      ],
      "text/markdown": [
       "customerID\n",
       ":   1.01241453119978nOrders\n",
       ":   11.5704911099229nItems\n",
       ":   13.1547474079507daysSinceLastOrder\n",
       ":   1.37692898859339margin\n",
       ":   3.67080109115952returnRatio\n",
       ":   1.31164148037996shareOwnBrand\n",
       ":   1.36517563597665shareVoucher\n",
       ":   1.18239381301426shareSale\n",
       ":   1.14926368015397gendermale\n",
       ":   1.00356004739909age\n",
       ":   1.0287407884121marginPerOrder\n",
       ":   8.98310502096075marginPerItem\n",
       ":   7.7840118246658itemsPerOrder\n",
       ":   6.65913429984677\n",
       "\n"
      ],
      "text/plain": [
       "        customerID            nOrders             nItems daysSinceLastOrder \n",
       "          1.012415          11.570491          13.154747           1.376929 \n",
       "            margin        returnRatio      shareOwnBrand       shareVoucher \n",
       "          3.670801           1.311641           1.365176           1.182394 \n",
       "         shareSale         gendermale                age     marginPerOrder \n",
       "          1.149264           1.003560           1.028741           8.983105 \n",
       "     marginPerItem      itemsPerOrder \n",
       "          7.784012           6.659134 "
      ]
     },
     "metadata": {},
     "output_type": "display_data"
    }
   ],
   "source": [
    "# Variation Inflation Factors (VIF) - Checking Collinearity Systemathically\n",
    "library(rms)\n",
    "vif(multipleLM)"
   ]
  },
  {
   "cell_type": "code",
   "execution_count": 12,
   "metadata": {},
   "outputs": [
    {
     "data": {
      "text/html": [
       "<dl class=dl-horizontal>\n",
       "\t<dt>customerID</dt>\n",
       "\t\t<dd>1.01127678450768</dd>\n",
       "\t<dt>nOrders</dt>\n",
       "\t\t<dd>2.86846173866952</dd>\n",
       "\t<dt>daysSinceLastOrder</dt>\n",
       "\t\t<dd>1.36321941883498</dd>\n",
       "\t<dt>margin</dt>\n",
       "\t\t<dd>3.57214446565197</dd>\n",
       "\t<dt>returnRatio</dt>\n",
       "\t\t<dd>1.30560148234096</dd>\n",
       "\t<dt>shareOwnBrand</dt>\n",
       "\t\t<dd>1.35541387081109</dd>\n",
       "\t<dt>shareVoucher</dt>\n",
       "\t\t<dd>1.17760112586816</dd>\n",
       "\t<dt>shareSale</dt>\n",
       "\t\t<dd>1.14713690956193</dd>\n",
       "\t<dt>gendermale</dt>\n",
       "\t\t<dd>1.00323073809886</dd>\n",
       "\t<dt>age</dt>\n",
       "\t\t<dd>1.02367953522612</dd>\n",
       "\t<dt>marginPerItem</dt>\n",
       "\t\t<dd>1.68728813183705</dd>\n",
       "\t<dt>itemsPerOrder</dt>\n",
       "\t\t<dd>1.55139760133122</dd>\n",
       "</dl>\n"
      ],
      "text/latex": [
       "\\begin{description*}\n",
       "\\item[customerID] 1.01127678450768\n",
       "\\item[nOrders] 2.86846173866952\n",
       "\\item[daysSinceLastOrder] 1.36321941883498\n",
       "\\item[margin] 3.57214446565197\n",
       "\\item[returnRatio] 1.30560148234096\n",
       "\\item[shareOwnBrand] 1.35541387081109\n",
       "\\item[shareVoucher] 1.17760112586816\n",
       "\\item[shareSale] 1.14713690956193\n",
       "\\item[gendermale] 1.00323073809886\n",
       "\\item[age] 1.02367953522612\n",
       "\\item[marginPerItem] 1.68728813183705\n",
       "\\item[itemsPerOrder] 1.55139760133122\n",
       "\\end{description*}\n"
      ],
      "text/markdown": [
       "customerID\n",
       ":   1.01127678450768nOrders\n",
       ":   2.86846173866952daysSinceLastOrder\n",
       ":   1.36321941883498margin\n",
       ":   3.57214446565197returnRatio\n",
       ":   1.30560148234096shareOwnBrand\n",
       ":   1.35541387081109shareVoucher\n",
       ":   1.17760112586816shareSale\n",
       ":   1.14713690956193gendermale\n",
       ":   1.00323073809886age\n",
       ":   1.02367953522612marginPerItem\n",
       ":   1.68728813183705itemsPerOrder\n",
       ":   1.55139760133122\n",
       "\n"
      ],
      "text/plain": [
       "        customerID            nOrders daysSinceLastOrder             margin \n",
       "          1.011277           2.868462           1.363219           3.572144 \n",
       "       returnRatio      shareOwnBrand       shareVoucher          shareSale \n",
       "          1.305601           1.355414           1.177601           1.147137 \n",
       "        gendermale                age      marginPerItem      itemsPerOrder \n",
       "          1.003231           1.023680           1.687288           1.551398 "
      ]
     },
     "metadata": {},
     "output_type": "display_data"
    }
   ],
   "source": [
    "# Building a New Model based on VIF values\n",
    "multipleLM2 <- lm(futureMargin ~ . -nItems -marginPerOrder, data = clvData1)\n",
    "vif(multipleLM2)"
   ]
  },
  {
   "cell_type": "code",
   "execution_count": 13,
   "metadata": {},
   "outputs": [
    {
     "data": {
      "text/plain": [
       "\n",
       "Call:\n",
       "lm(formula = futureMargin ~ . - nItems - marginPerOrder, data = clvData1)\n",
       "\n",
       "Residuals:\n",
       "    Min      1Q  Median      3Q     Max \n",
       "-56.366  -8.798   0.538   9.536  49.939 \n",
       "\n",
       "Coefficients:\n",
       "                     Estimate Std. Error t value Pr(>|t|)    \n",
       "(Intercept)        22.2342265  1.3270692  16.754  < 2e-16 ***\n",
       "customerID          0.0001906  0.0001088   1.753 0.079730 .  \n",
       "nOrders             0.2189831  0.0613361   3.570 0.000361 ***\n",
       "daysSinceLastOrder -0.0168144  0.0026825  -6.268 4.02e-10 ***\n",
       "margin              0.4067445  0.0270151  15.056  < 2e-16 ***\n",
       "returnRatio        -1.9831089  0.6010904  -3.299 0.000978 ***\n",
       "shareOwnBrand       7.5241955  0.6778792  11.100  < 2e-16 ***\n",
       "shareVoucher       -1.7135963  0.6691892  -2.561 0.010481 *  \n",
       "shareSale          -2.9139569  0.6911288  -4.216 2.54e-05 ***\n",
       "gendermale          0.2112844  0.4300500   0.491 0.623239    \n",
       "age                -0.0165479  0.0172588  -0.959 0.337710    \n",
       "marginPerItem      -0.1988837  0.0511559  -3.888 0.000103 ***\n",
       "itemsPerOrder      -0.2811352  0.2614672  -1.075 0.282338    \n",
       "---\n",
       "Signif. codes:  0 '***' 0.001 '**' 0.01 '*' 0.05 '.' 0.1 ' ' 1\n",
       "\n",
       "Residual standard error: 13.87 on 4178 degrees of freedom\n",
       "Multiple R-squared:  0.3526,\tAdjusted R-squared:  0.3508 \n",
       "F-statistic: 189.6 on 12 and 4178 DF,  p-value: < 2.2e-16\n"
      ]
     },
     "metadata": {},
     "output_type": "display_data"
    }
   ],
   "source": [
    "# Statistical Significance\n",
    "summary(multipleLM2)"
   ]
  },
  {
   "cell_type": "code",
   "execution_count": 21,
   "metadata": {},
   "outputs": [
    {
     "name": "stderr",
     "output_type": "stream",
     "text": [
      "Parsed with column specification:\n",
      "cols(\n",
      "  customerID = col_double(),\n",
      "  nOrders = col_double(),\n",
      "  nItems = col_double(),\n",
      "  daysSinceLastOrder = col_double(),\n",
      "  margin = col_double(),\n",
      "  returnRatio = col_double(),\n",
      "  shareOwnBrand = col_double(),\n",
      "  shareVoucher = col_double(),\n",
      "  shareSale = col_double(),\n",
      "  gender = col_character(),\n",
      "  age = col_double(),\n",
      "  marginPerOrder = col_double(),\n",
      "  marginPerItem = col_double(),\n",
      "  itemsPerOrder = col_double()\n",
      ")\n"
     ]
    }
   ],
   "source": [
    "# Predicting on the test data\n",
    "clvData2 <- read_csv(\"C:/Users/Dell/Desktop/DC Datasets/ML for Marketing Analytcis/clvData2.csv\")\n",
    "clvData2$predMargin <- predict(multipleLM2, newdata=clvData2)"
   ]
  },
  {
   "cell_type": "code",
   "execution_count": 22,
   "metadata": {},
   "outputs": [
    {
     "data": {
      "text/html": [
       "<table>\n",
       "<thead><tr><th scope=col>term</th><th scope=col>estimate</th><th scope=col>std.error</th><th scope=col>statistic</th><th scope=col>p.value</th></tr></thead>\n",
       "<tbody>\n",
       "\t<tr><td>(Intercept)       </td><td>22.2342265368     </td><td>1.327069208       </td><td>16.754384         </td><td>4.960096e-61      </td></tr>\n",
       "\t<tr><td>customerID        </td><td> 0.0001906409     </td><td>0.000108771       </td><td> 1.752681         </td><td>7.973007e-02      </td></tr>\n",
       "\t<tr><td>nOrders           </td><td> 0.2189830549     </td><td>0.061336113       </td><td> 3.570214         </td><td>3.607031e-04      </td></tr>\n",
       "\t<tr><td>daysSinceLastOrder</td><td>-0.0168143526     </td><td>0.002682490       </td><td>-6.268190         </td><td>4.022461e-10      </td></tr>\n",
       "\t<tr><td>margin            </td><td> 0.4067445373     </td><td>0.027015057       </td><td>15.056216         </td><td>6.276959e-50      </td></tr>\n",
       "\t<tr><td>returnRatio       </td><td>-1.9831088519     </td><td>0.601090402       </td><td>-3.299186         </td><td>9.777825e-04      </td></tr>\n",
       "\t<tr><td>shareOwnBrand     </td><td> 7.5241954861     </td><td>0.677879239       </td><td>11.099610         </td><td>3.115209e-28      </td></tr>\n",
       "\t<tr><td>shareVoucher      </td><td>-1.7135962696     </td><td>0.669189250       </td><td>-2.560705         </td><td>1.048084e-02      </td></tr>\n",
       "\t<tr><td>shareSale         </td><td>-2.9139568923     </td><td>0.691128796       </td><td>-4.216228         </td><td>2.536783e-05      </td></tr>\n",
       "\t<tr><td>gendermale        </td><td> 0.2112844473     </td><td>0.430050045       </td><td> 0.491302         </td><td>6.232387e-01      </td></tr>\n",
       "\t<tr><td>age               </td><td>-0.0165479181     </td><td>0.017258827       </td><td>-0.958809         </td><td>3.377105e-01      </td></tr>\n",
       "\t<tr><td>marginPerItem     </td><td>-0.1988837034     </td><td>0.051155928       </td><td>-3.887794         </td><td>1.027299e-04      </td></tr>\n",
       "\t<tr><td>itemsPerOrder     </td><td>-0.2811351650     </td><td>0.261467240       </td><td>-1.075221         </td><td>2.823377e-01      </td></tr>\n",
       "</tbody>\n",
       "</table>\n"
      ],
      "text/latex": [
       "\\begin{tabular}{r|lllll}\n",
       " term & estimate & std.error & statistic & p.value\\\\\n",
       "\\hline\n",
       "\t (Intercept)        & 22.2342265368      & 1.327069208        & 16.754384          & 4.960096e-61      \\\\\n",
       "\t customerID         &  0.0001906409      & 0.000108771        &  1.752681          & 7.973007e-02      \\\\\n",
       "\t nOrders            &  0.2189830549      & 0.061336113        &  3.570214          & 3.607031e-04      \\\\\n",
       "\t daysSinceLastOrder & -0.0168143526      & 0.002682490        & -6.268190          & 4.022461e-10      \\\\\n",
       "\t margin             &  0.4067445373      & 0.027015057        & 15.056216          & 6.276959e-50      \\\\\n",
       "\t returnRatio        & -1.9831088519      & 0.601090402        & -3.299186          & 9.777825e-04      \\\\\n",
       "\t shareOwnBrand      &  7.5241954861      & 0.677879239        & 11.099610          & 3.115209e-28      \\\\\n",
       "\t shareVoucher       & -1.7135962696      & 0.669189250        & -2.560705          & 1.048084e-02      \\\\\n",
       "\t shareSale          & -2.9139568923      & 0.691128796        & -4.216228          & 2.536783e-05      \\\\\n",
       "\t gendermale         &  0.2112844473      & 0.430050045        &  0.491302          & 6.232387e-01      \\\\\n",
       "\t age                & -0.0165479181      & 0.017258827        & -0.958809          & 3.377105e-01      \\\\\n",
       "\t marginPerItem      & -0.1988837034      & 0.051155928        & -3.887794          & 1.027299e-04      \\\\\n",
       "\t itemsPerOrder      & -0.2811351650      & 0.261467240        & -1.075221          & 2.823377e-01      \\\\\n",
       "\\end{tabular}\n"
      ],
      "text/markdown": [
       "\n",
       "| term | estimate | std.error | statistic | p.value |\n",
       "|---|---|---|---|---|\n",
       "| (Intercept)        | 22.2342265368      | 1.327069208        | 16.754384          | 4.960096e-61       |\n",
       "| customerID         |  0.0001906409      | 0.000108771        |  1.752681          | 7.973007e-02       |\n",
       "| nOrders            |  0.2189830549      | 0.061336113        |  3.570214          | 3.607031e-04       |\n",
       "| daysSinceLastOrder | -0.0168143526      | 0.002682490        | -6.268190          | 4.022461e-10       |\n",
       "| margin             |  0.4067445373      | 0.027015057        | 15.056216          | 6.276959e-50       |\n",
       "| returnRatio        | -1.9831088519      | 0.601090402        | -3.299186          | 9.777825e-04       |\n",
       "| shareOwnBrand      |  7.5241954861      | 0.677879239        | 11.099610          | 3.115209e-28       |\n",
       "| shareVoucher       | -1.7135962696      | 0.669189250        | -2.560705          | 1.048084e-02       |\n",
       "| shareSale          | -2.9139568923      | 0.691128796        | -4.216228          | 2.536783e-05       |\n",
       "| gendermale         |  0.2112844473      | 0.430050045        |  0.491302          | 6.232387e-01       |\n",
       "| age                | -0.0165479181      | 0.017258827        | -0.958809          | 3.377105e-01       |\n",
       "| marginPerItem      | -0.1988837034      | 0.051155928        | -3.887794          | 1.027299e-04       |\n",
       "| itemsPerOrder      | -0.2811351650      | 0.261467240        | -1.075221          | 2.823377e-01       |\n",
       "\n"
      ],
      "text/plain": [
       "   term               estimate      std.error   statistic p.value     \n",
       "1  (Intercept)        22.2342265368 1.327069208 16.754384 4.960096e-61\n",
       "2  customerID          0.0001906409 0.000108771  1.752681 7.973007e-02\n",
       "3  nOrders             0.2189830549 0.061336113  3.570214 3.607031e-04\n",
       "4  daysSinceLastOrder -0.0168143526 0.002682490 -6.268190 4.022461e-10\n",
       "5  margin              0.4067445373 0.027015057 15.056216 6.276959e-50\n",
       "6  returnRatio        -1.9831088519 0.601090402 -3.299186 9.777825e-04\n",
       "7  shareOwnBrand       7.5241954861 0.677879239 11.099610 3.115209e-28\n",
       "8  shareVoucher       -1.7135962696 0.669189250 -2.560705 1.048084e-02\n",
       "9  shareSale          -2.9139568923 0.691128796 -4.216228 2.536783e-05\n",
       "10 gendermale          0.2112844473 0.430050045  0.491302 6.232387e-01\n",
       "11 age                -0.0165479181 0.017258827 -0.958809 3.377105e-01\n",
       "12 marginPerItem      -0.1988837034 0.051155928 -3.887794 1.027299e-04\n",
       "13 itemsPerOrder      -0.2811351650 0.261467240 -1.075221 2.823377e-01"
      ]
     },
     "metadata": {},
     "output_type": "display_data"
    }
   ],
   "source": [
    "# Data frame displaying X, Y, Yhat and residuals with broom package\n",
    "library(broom)\n",
    "multipleLM2 %>% tidy()"
   ]
  },
  {
   "cell_type": "code",
   "execution_count": 43,
   "metadata": {},
   "outputs": [
    {
     "name": "stderr",
     "output_type": "stream",
     "text": [
      "`geom_smooth()` using method = 'gam' and formula 'y ~ s(x, bs = \"cs\")'\n",
      "Warning message:\n",
      "\"Removed 181 rows containing non-finite values (stat_smooth).\"Warning message:\n",
      "\"Removed 181 rows containing missing values (geom_point).\""
     ]
    },
    {
     "data": {
      "image/png": "[encoded data removed]",
      "text/plain": [
       "plot without title"
      ]
     },
     "metadata": {},
     "output_type": "display_data"
    }
   ],
   "source": [
    "# Visualizing actual observations, regression line and new predictions together\n",
    "ggplot(clvData2, aes(x=predMargin, y=margin, color=gender)) +\n",
    "geom_point() + geom_smooth()"
   ]
  }
 ],
 "metadata": {
  "kernelspec": {
   "display_name": "R",
   "language": "R",
   "name": "ir"
  },
  "language_info": {
   "codemirror_mode": "r",
   "file_extension": ".r",
   "mimetype": "text/x-r-source",
   "name": "R",
   "pygments_lexer": "r",
   "version": "3.6.1"
  }
 },
 "nbformat": 4,
 "nbformat_minor": 4
}
